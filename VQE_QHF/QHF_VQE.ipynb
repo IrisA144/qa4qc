{
 "cells": [
  {
   "cell_type": "code",
   "execution_count": 7,
   "id": "0d095279",
   "metadata": {},
   "outputs": [],
   "source": [
    "from qiskit import *\n",
    "from qiskit.circuit.library import iSwapGate\n",
    "import numpy as np\n",
    "import matplotlib.pyplot as plt\n",
    "\n",
    "plt.style.use('physchem.mplstyle')\n",
    "\n",
    "from pyscf import gto, scf\n",
    "from functools import reduce\n",
    "\n",
    "import scipy.linalg\n",
    "\n",
    "SILENT_MODE = 0"
   ]
  },
  {
   "cell_type": "code",
   "execution_count": 2,
   "id": "5a2eeb4f",
   "metadata": {},
   "outputs": [],
   "source": [
    "def givens_(qc,x,pos):\n",
    "    sqrt_iSWAP = iSwapGate().power(1/2)\n",
    "    qc.append(sqrt_iSWAP, pos)\n",
    "    qc.rz(x,pos[0])\n",
    "    qc.rz(-x-np.pi,pos[1])\n",
    "    qc.append(sqrt_iSWAP, pos)\n",
    "    qc.rz(np.pi,pos[1])\n",
    "    \n",
    "    return qc\n",
    "\n",
    "def givens_mat(n,p,q,theta):\n",
    "    mat = np.zeros((n,n))\n",
    "    \n",
    "    for i in range(n):\n",
    "        mat[i,i] += int((i!=p) or (i!=q))\n",
    "        \n",
    "    mat[p,p] = np.cos(theta)\n",
    "    mat[p,q] = -np.sin(theta)\n",
    "    mat[q,p] = np.sin(theta)\n",
    "    mat[q,q] = np.cos(theta)\n",
    "    \n",
    "    return mat\n",
    "\n",
    "\n",
    "def lowdin(s):\n",
    "    ''' new basis is |mu> c^{lowdin}_{mu i} '''\n",
    "    e, v = scipy.linalg.eigh(s)\n",
    "    idx = e > 1e-15\n",
    "    return np.dot(v[:,idx]/np.sqrt(e[idx]), v[:,idx].conj().T)\n",
    "\n",
    "def caolo(s):\n",
    "    return lowdin(s)\n",
    "\n",
    "def cloao(s):\n",
    "    return lowdin(s) @ s \n",
    "\n",
    "\n",
    "def get_thetas(mo_coeff):\n",
    "    # mo_coeff is of shape (n,occ)\n",
    "    \n",
    "    ceff = mo_coeff[:]\n",
    "    n = ceff.shape[0]\n",
    "    occ = 3\n",
    "    \n",
    "    for i in range(occ-1):\n",
    "        for j in range(occ-1-i):\n",
    "            ceff = ceff @ givens_mat(n,j,j+1,np.arctan(-ceff[n-1-i,j]/ceff[n-1-i,j+1]))\n",
    "\n",
    "    thetas = []\n",
    "    \n",
    "    pairs = ([2,3,0],[1,2,0],[3,4,1],[0,1,0],[2,3,1],[4,5,2],[1,2,1],[3,4,2],[2,3,2])\n",
    "    \n",
    "    for i in range(len(pairs)):\n",
    "        theta = np.arctan(-ceff[pairs[i][1],pairs[i][2]]/ceff[pairs[i][0],pairs[i][2]])\n",
    "        thetas.append(theta)\n",
    "        ceff = givens_mat(n,pairs[i][0],pairs[i][1],theta) @ ceff\n",
    "        \n",
    "    for i in range(occ-1):\n",
    "        for j in range(occ,2*occ-1-i):\n",
    "            ceff = ceff @ givens_mat(n,j,j+1,np.arctan(-ceff[n-1-i,j]/ceff[n-1-i,j+1]))\n",
    "        \n",
    "    return thetas[::-1], ceff\n",
    "\n",
    "def get_z(counts):\n",
    "    m = np.zeros(6)\n",
    "    for item in counts:\n",
    "        for i in range(6):\n",
    "            if int(item[0][i]):\n",
    "                m[i] -= item[1]\n",
    "            else:\n",
    "                m[i] += item[1]\n",
    "    return m"
   ]
  },
  {
   "cell_type": "code",
   "execution_count": 3,
   "id": "43777fe6",
   "metadata": {},
   "outputs": [],
   "source": [
    "def get_mol_H6(bl):\n",
    "    mol = gto.M(atom='''\n",
    "            H 0. 0. %.8f\n",
    "            H 0. 0. %.8f\n",
    "            H 0. 0. %.8f\n",
    "            H 0. 0. %.8f\n",
    "            H 0. 0. %.8f\n",
    "            H 0. 0. %.8f\n",
    "        '''%tuple([bl * i for i in range(6)]),\n",
    "        basis='sto-3g', symmetry=0 ,spin = 0,charge = 0,verbose= 0)\n",
    "    \n",
    "    return mol\n",
    "\n",
    "lengths = np.linspace(0.5,2.5,6)\n",
    "cur_length = 1\n",
    "\n",
    "# classical HF\n",
    "mol = get_mol_H6(lengths[cur_length])\n",
    "mf = scf.HF(mol)\n",
    "mf.kernel(verbose=0)\n",
    "\n",
    "# orthogonalization\n",
    "mo_coeff = cloao(mf.get_ovlp()) @ mf.mo_coeff\n",
    "\n",
    "# Givens reduction for VQE initial guess\n",
    "thetas, ceff = get_thetas(mo_coeff)\n",
    "\n",
    "# Simulation Shots\n",
    "shots = 1024"
   ]
  },
  {
   "cell_type": "code",
   "execution_count": 18,
   "id": "e420ee1c",
   "metadata": {},
   "outputs": [
    {
     "name": "stdout",
     "output_type": "stream",
     "text": [
      "[0.50976562 0.49609375 0.47265625 0.50683594 0.49609375 0.51855469]\n"
     ]
    }
   ],
   "source": [
    "circuit = QuantumCircuit(6)\n",
    "\n",
    "for i in range(3):\n",
    "    circuit.x(i)\n",
    "    \n",
    "pairs = ([2,3],[3,4],[1,2],[4,5],[2,3],[0,1],[3,4],[1,2],[2,3])\n",
    "\n",
    "for i in range(9):\n",
    "    givens_(circuit,-thetas[i],pairs[i])\n",
    "    \n",
    "meas = QuantumCircuit(6, 6)\n",
    "meas.barrier(range(6))\n",
    "meas.measure(range(6), range(6))\n",
    "circuit.add_register(meas.cregs[0])\n",
    "circuit = circuit.compose(meas)\n",
    "    \n",
    "if not SILENT_MODE:\n",
    "    fig = circuit.draw('mpl')\n",
    "    fig.savefig('1.png')\n",
    "\n",
    "backend_sim = Aer.get_backend('qasm_simulator')\n",
    "job_sim = backend_sim.run(transpile(circuit, backend_sim), shots=shots)\n",
    "result_sim = job_sim.result()\n",
    "\n",
    "counts = result_sim.get_counts(circuit)\n",
    "\n",
    "if not SILENT_MODE:\n",
    "    from qiskit.visualization import plot_histogram\n",
    "    plot_histogram(counts)\n",
    "    \n",
    "m_i = get_z(counts.items())/shots\n",
    "d_ii = (1-m_i)/2\n",
    "\n",
    "print(d_ii)"
   ]
  },
  {
   "cell_type": "code",
   "execution_count": 5,
   "id": "09abba10",
   "metadata": {},
   "outputs": [
    {
     "name": "stdout",
     "output_type": "stream",
     "text": [
      "[0.45263672 0.40820312 0.43896484]\n"
     ]
    }
   ],
   "source": [
    "circuit = QuantumCircuit(6)\n",
    "\n",
    "for i in range(3):\n",
    "    circuit.x(i)\n",
    "    \n",
    "pairs = ([2,3],[3,4],[1,2],[4,5],[2,3],[0,1],[3,4],[1,2],[2,3])\n",
    "\n",
    "for i in range(9):\n",
    "    givens_(circuit,-thetas[i],pairs[i])\n",
    "    \n",
    "circuit.barrier(range(6))\n",
    "    \n",
    "for i in range(0,6,2):\n",
    "    circuit.rz(np.pi/4,i)\n",
    "    circuit.rz(-np.pi/4,i+1)\n",
    "    \n",
    "    sqrt_iSWAP = iSwapGate().power(1/2)\n",
    "    circuit.append(sqrt_iSWAP, (i,i+1))\n",
    "    \n",
    "meas = QuantumCircuit(6, 6)\n",
    "meas.barrier(range(6))\n",
    "meas.measure(range(6), range(6))\n",
    "circuit.add_register(meas.cregs[0])\n",
    "circuit = circuit.compose(meas)\n",
    "\n",
    "if not SILENT_MODE:\n",
    "    circuit.draw('mpl')   \n",
    "\n",
    "backend_sim = Aer.get_backend('qasm_simulator')\n",
    "job_sim = backend_sim.run(transpile(circuit, backend_sim), shots=shots)\n",
    "result_sim = job_sim.result()\n",
    "\n",
    "counts = result_sim.get_counts(circuit)\n",
    "\n",
    "if not SILENT_MODE:\n",
    "    from qiskit.visualization import plot_histogram\n",
    "    plot_histogram(counts)\n",
    "    \n",
    "m_i = get_z(counts.items())/shots\n",
    "d_ij1o = np.asarray([(m_i[i]-m_i[i+1])/4 for i in range(0,5,2)])\n",
    "\n",
    "print(d_ij1o)"
   ]
  },
  {
   "cell_type": "code",
   "execution_count": 6,
   "id": "3b1d047c",
   "metadata": {},
   "outputs": [
    {
     "name": "stdout",
     "output_type": "stream",
     "text": [
      "[0.21142578 0.22021484]\n"
     ]
    }
   ],
   "source": [
    "circuit = QuantumCircuit(6)\n",
    "\n",
    "for i in range(3):\n",
    "    circuit.x(i)\n",
    "    \n",
    "pairs = ([2,3],[3,4],[1,2],[4,5],[2,3],[0,1],[3,4],[1,2],[2,3])\n",
    "\n",
    "for i in range(9):\n",
    "    givens_(circuit,-thetas[i],pairs[i])\n",
    "    \n",
    "circuit.barrier(range(6))\n",
    "    \n",
    "for i in range(1,5,2):\n",
    "    circuit.rz(np.pi/4,i)\n",
    "    circuit.rz(-np.pi/4,i+1)\n",
    "    \n",
    "    sqrt_iSWAP = iSwapGate().power(1/2)\n",
    "    circuit.append(sqrt_iSWAP, (i,i+1))\n",
    "    \n",
    "meas = QuantumCircuit(6, 6)\n",
    "meas.barrier(range(6))\n",
    "meas.measure(range(6), range(6))\n",
    "circuit.add_register(meas.cregs[0])\n",
    "circuit = circuit.compose(meas)\n",
    "\n",
    "if not SILENT_MODE:\n",
    "    circuit.draw('mpl')   \n",
    "\n",
    "backend_sim = Aer.get_backend('qasm_simulator')\n",
    "job_sim = backend_sim.run(transpile(circuit, backend_sim), shots=shots)\n",
    "result_sim = job_sim.result()\n",
    "\n",
    "counts = result_sim.get_counts(circuit)\n",
    "\n",
    "if not SILENT_MODE:\n",
    "    from qiskit.visualization import plot_histogram\n",
    "    plot_histogram(counts)\n",
    "    \n",
    "m_i = get_z(counts.items())/shots\n",
    "d_ij1e = np.asarray([(m_i[i]-m_i[i+1])/4 for i in range(1,4,2)])\n",
    "\n",
    "print(d_ij1e)"
   ]
  },
  {
   "cell_type": "code",
   "execution_count": 7,
   "id": "bc47b2a6",
   "metadata": {},
   "outputs": [
    {
     "name": "stdout",
     "output_type": "stream",
     "text": [
      "[ 0.00488281  0.11230469 -0.00878906]\n"
     ]
    }
   ],
   "source": [
    "circuit = QuantumCircuit(6)\n",
    "\n",
    "for i in range(3):\n",
    "    circuit.x(i)\n",
    "    \n",
    "pairs = ([2,3],[3,4],[1,2],[4,5],[2,3],[0,1],[3,4],[1,2],[2,3])\n",
    "\n",
    "for i in range(9):\n",
    "    givens_(circuit,-thetas[i],pairs[i])\n",
    "    \n",
    "circuit.barrier(range(6))\n",
    "    \n",
    "for i in range(0,6,2):\n",
    "    circuit.swap(i,i+1)\n",
    "    circuit.cp(np.pi,i+1,i)\n",
    "    \n",
    "for i in range(1,5,2):\n",
    "    circuit.swap(i,i+1)\n",
    "    circuit.cp(np.pi,i+1,i)\n",
    "    \n",
    "circuit.barrier(range(6))\n",
    "    \n",
    "for i in range(0,6,2):\n",
    "    circuit.rz(np.pi/4,i)\n",
    "    circuit.rz(-np.pi/4,i+1)\n",
    "    \n",
    "    sqrt_iSWAP = iSwapGate().power(1/2)\n",
    "    circuit.append(sqrt_iSWAP, (i,i+1))\n",
    "    \n",
    "meas = QuantumCircuit(6, 6)\n",
    "meas.barrier(range(6))\n",
    "meas.measure(range(6), range(6))\n",
    "circuit.add_register(meas.cregs[0])\n",
    "circuit = circuit.compose(meas)\n",
    "\n",
    "if not SILENT_MODE:\n",
    "    circuit.draw('mpl')   \n",
    "\n",
    "backend_sim = Aer.get_backend('qasm_simulator')\n",
    "job_sim = backend_sim.run(transpile(circuit, backend_sim), shots=shots)\n",
    "result_sim = job_sim.result()\n",
    "\n",
    "counts = result_sim.get_counts(circuit)\n",
    "\n",
    "if not SILENT_MODE:\n",
    "    from qiskit.visualization import plot_histogram\n",
    "    plot_histogram(counts)\n",
    "    \n",
    "m_i = get_z(counts.items())/shots\n",
    "d_ij2o = np.asarray([(m_i[i]-m_i[i+1])/4 for i in range(0,5,2)])\n",
    "\n",
    "print(d_ij2o)"
   ]
  },
  {
   "cell_type": "code",
   "execution_count": 8,
   "id": "6b51b34f",
   "metadata": {},
   "outputs": [
    {
     "name": "stdout",
     "output_type": "stream",
     "text": [
      "[-0.18847656 -0.18408203]\n"
     ]
    }
   ],
   "source": [
    "circuit = QuantumCircuit(6)\n",
    "\n",
    "for i in range(3):\n",
    "    circuit.x(i)\n",
    "    \n",
    "pairs = ([2,3],[3,4],[1,2],[4,5],[2,3],[0,1],[3,4],[1,2],[2,3])\n",
    "\n",
    "for i in range(9):\n",
    "    givens_(circuit,-thetas[i],pairs[i])\n",
    "    \n",
    "circuit.barrier(range(6))\n",
    "    \n",
    "for i in range(0,6,2):\n",
    "    circuit.swap(i,i+1)\n",
    "    circuit.cp(np.pi,i+1,i)\n",
    "    \n",
    "for i in range(1,5,2):\n",
    "    circuit.swap(i,i+1)\n",
    "    circuit.cp(np.pi,i+1,i)\n",
    "    \n",
    "circuit.barrier(range(6))\n",
    "    \n",
    "for i in range(1,5,2):\n",
    "    circuit.rz(np.pi/4,i)\n",
    "    circuit.rz(-np.pi/4,i+1)\n",
    "    \n",
    "    sqrt_iSWAP = iSwapGate().power(1/2)\n",
    "    circuit.append(sqrt_iSWAP, (i,i+1))\n",
    "    \n",
    "meas = QuantumCircuit(6, 6)\n",
    "meas.barrier(range(6))\n",
    "meas.measure(range(6), range(6))\n",
    "circuit.add_register(meas.cregs[0])\n",
    "circuit = circuit.compose(meas)\n",
    "\n",
    "if not SILENT_MODE:\n",
    "    circuit.draw('mpl')   \n",
    "\n",
    "backend_sim = Aer.get_backend('qasm_simulator')\n",
    "job_sim = backend_sim.run(transpile(circuit, backend_sim), shots=shots)\n",
    "result_sim = job_sim.result()\n",
    "\n",
    "counts = result_sim.get_counts(circuit)\n",
    "\n",
    "if not SILENT_MODE:\n",
    "    from qiskit.visualization import plot_histogram\n",
    "    plot_histogram(counts)\n",
    "    \n",
    "m_i = get_z(counts.items())/shots\n",
    "d_ij2e = np.asarray([(m_i[i]-m_i[i+1])/4 for i in range(1,4,2)])\n",
    "\n",
    "print(d_ij2e)"
   ]
  },
  {
   "cell_type": "code",
   "execution_count": 8,
   "id": "bccd49dd",
   "metadata": {},
   "outputs": [
    {
     "name": "stderr",
     "output_type": "stream",
     "text": [
      "findfont: Font family ['sans-serif'] not found. Falling back to DejaVu Sans.\n",
      "findfont: Generic family 'sans-serif' not found because none of the following families were found: Arial\n",
      "findfont: Font family ['sans-serif'] not found. Falling back to DejaVu Sans.\n",
      "findfont: Generic family 'sans-serif' not found because none of the following families were found: Arial\n",
      "findfont: Font family ['sans-serif'] not found. Falling back to DejaVu Sans.\n",
      "findfont: Generic family 'sans-serif' not found because none of the following families were found: Arial\n",
      "findfont: Font family ['sans-serif'] not found. Falling back to DejaVu Sans.\n",
      "findfont: Generic family 'sans-serif' not found because none of the following families were found: Arial\n"
     ]
    },
    {
     "name": "stdout",
     "output_type": "stream",
     "text": [
      "[-0.015625   -0.04052734 -0.00830078]\n"
     ]
    }
   ],
   "source": [
    "circuit = QuantumCircuit(6)\n",
    "\n",
    "for i in range(3):\n",
    "    circuit.x(i)\n",
    "    \n",
    "pairs = ([2,3],[3,4],[1,2],[4,5],[2,3],[0,1],[3,4],[1,2],[2,3])\n",
    "\n",
    "for i in range(9):\n",
    "    givens_(circuit,-thetas[i],pairs[i])\n",
    "    \n",
    "circuit.barrier(range(6))\n",
    "    \n",
    "for i in range(0,6,2):\n",
    "    circuit.swap(i,i+1)\n",
    "    circuit.cp(np.pi,i+1,i)\n",
    "    \n",
    "for i in range(1,5,2):\n",
    "    circuit.swap(i,i+1)\n",
    "    circuit.cp(np.pi,i+1,i)\n",
    "    \n",
    "for i in range(0,6,2):\n",
    "    circuit.swap(i,i+1)\n",
    "    circuit.cp(np.pi,i+1,i)\n",
    "    \n",
    "for i in range(1,5,2):\n",
    "    circuit.swap(i,i+1)\n",
    "    circuit.cp(np.pi,i+1,i)\n",
    "    \n",
    "circuit.barrier(range(6))\n",
    "    \n",
    "for i in range(0,6,2):\n",
    "    circuit.rz(np.pi/4,i)\n",
    "    circuit.rz(-np.pi/4,i+1)\n",
    "    \n",
    "    sqrt_iSWAP = iSwapGate().power(1/2)\n",
    "    circuit.append(sqrt_iSWAP, (i,i+1))\n",
    "    \n",
    "meas = QuantumCircuit(6, 6)\n",
    "meas.barrier(range(6))\n",
    "meas.measure(range(6), range(6))\n",
    "circuit.add_register(meas.cregs[0])\n",
    "circuit = circuit.compose(meas)\n",
    "\n",
    "if not SILENT_MODE:\n",
    "    fig = circuit.draw('mpl')   \n",
    "    fig.savefig('2.png')\n",
    "\n",
    "backend_sim = Aer.get_backend('qasm_simulator')\n",
    "job_sim = backend_sim.run(transpile(circuit, backend_sim), shots=shots)\n",
    "result_sim = job_sim.result()\n",
    "\n",
    "counts = result_sim.get_counts(circuit)\n",
    "\n",
    "if not SILENT_MODE:\n",
    "    from qiskit.visualization import plot_histogram\n",
    "    plot_histogram(counts)\n",
    "    \n",
    "m_i = get_z(counts.items())/shots\n",
    "d_ij3o = np.asarray([(m_i[i]-m_i[i+1])/4 for i in range(0,5,2)])\n",
    "\n",
    "print(d_ij3o)"
   ]
  },
  {
   "cell_type": "code",
   "execution_count": 19,
   "id": "8ab5f896",
   "metadata": {},
   "outputs": [
    {
     "name": "stdout",
     "output_type": "stream",
     "text": [
      "[-0.01220703 -0.00732422]\n"
     ]
    }
   ],
   "source": [
    "circuit = QuantumCircuit(6)\n",
    "\n",
    "for i in range(3):\n",
    "    circuit.x(i)\n",
    "    \n",
    "pairs = ([2,3],[3,4],[1,2],[4,5],[2,3],[0,1],[3,4],[1,2],[2,3])\n",
    "\n",
    "for i in range(9):\n",
    "    givens_(circuit,-thetas[i],pairs[i])\n",
    "    \n",
    "circuit.barrier(range(6))\n",
    "    \n",
    "for i in range(0,6,2):\n",
    "    circuit.swap(i,i+1)\n",
    "    circuit.cp(np.pi,i+1,i)\n",
    "    \n",
    "for i in range(1,5,2):\n",
    "    circuit.swap(i,i+1)\n",
    "    circuit.cp(np.pi,i+1,i)\n",
    "    \n",
    "for i in range(0,6,2):\n",
    "    circuit.swap(i,i+1)\n",
    "    circuit.cp(np.pi,i+1,i)\n",
    "    \n",
    "for i in range(1,5,2):\n",
    "    circuit.swap(i,i+1)\n",
    "    circuit.cp(np.pi,i+1,i)\n",
    "    \n",
    "circuit.barrier(range(6))\n",
    "    \n",
    "for i in range(1,5,2):\n",
    "    circuit.rz(np.pi/4,i)\n",
    "    circuit.rz(-np.pi/4,i+1)\n",
    "    \n",
    "    sqrt_iSWAP = iSwapGate().power(1/2)\n",
    "    circuit.append(sqrt_iSWAP, (i,i+1))\n",
    "    \n",
    "meas = QuantumCircuit(6, 6)\n",
    "meas.barrier(range(6))\n",
    "meas.measure(range(6), range(6))\n",
    "circuit.add_register(meas.cregs[0])\n",
    "circuit = circuit.compose(meas)\n",
    "\n",
    "if not SILENT_MODE:\n",
    "    circuit.draw('mpl')   \n",
    "\n",
    "backend_sim = Aer.get_backend('qasm_simulator')\n",
    "job_sim = backend_sim.run(transpile(circuit, backend_sim), shots=shots)\n",
    "result_sim = job_sim.result()\n",
    "\n",
    "counts = result_sim.get_counts(circuit)\n",
    "\n",
    "if not SILENT_MODE:\n",
    "    from qiskit.visualization import plot_histogram\n",
    "    plot_histogram(counts)\n",
    "    \n",
    "m_i = get_z(counts.items())/shots\n",
    "d_ij3e = np.asarray([(m_i[i]-m_i[i+1])/4 for i in range(1,4,2)])\n",
    "\n",
    "print(d_ij3e)"
   ]
  },
  {
   "cell_type": "code",
   "execution_count": 11,
   "id": "9ffd4eb3",
   "metadata": {},
   "outputs": [
    {
     "data": {
      "text/plain": [
       "<matplotlib.colorbar.Colorbar at 0x7f5ac0197c40>"
      ]
     },
     "execution_count": 11,
     "metadata": {},
     "output_type": "execute_result"
    },
    {
     "data": {
      "image/png": "[encoded data removed]",
      "text/plain": [
       "<Figure size 432x288 with 2 Axes>"
      ]
     },
     "metadata": {
      "needs_background": "light"
     },
     "output_type": "display_data"
    }
   ],
   "source": [
    "dm_cl = reduce(np.dot,(cloao(mf.get_ovlp()),mf.make_rdm1(),cloao(mf.get_ovlp()).conj().T))\n",
    "plt.imshow(dm_cl/2,cmap='Purples')\n",
    "plt.colorbar()"
   ]
  },
  {
   "cell_type": "code",
   "execution_count": 12,
   "id": "719be93e",
   "metadata": {},
   "outputs": [
    {
     "data": {
      "text/plain": [
       "<matplotlib.colorbar.Colorbar at 0x7f5ab81037f0>"
      ]
     },
     "execution_count": 12,
     "metadata": {},
     "output_type": "execute_result"
    },
    {
     "data": {
      "image/png": "[encoded data removed]",
      "text/plain": [
       "<Figure size 432x288 with 2 Axes>"
      ]
     },
     "metadata": {
      "needs_background": "light"
     },
     "output_type": "display_data"
    }
   ],
   "source": [
    "dm_qm = np.asarray([[d_ii[0],d_ij1o[0],d_ij3o[2],d_ij2e[0],d_ij3e[1],d_ij2o[1]],\n",
    "                    [0      ,d_ii[1]  ,d_ij1e[0],d_ij2o[0],d_ij3o[1],d_ij3e[0]],\n",
    "                    [0      ,0        ,d_ii[2]  ,d_ij1o[1],d_ij2o[2],d_ij2e[1]],\n",
    "                    [0      ,0        ,0        ,d_ii[3]  ,d_ij1e[1],d_ij3o[0]],\n",
    "                    [0      ,0        ,0        ,0        ,d_ii[4]  ,d_ij1o[2]],\n",
    "                    [0      ,0        ,0        ,0        ,0        ,d_ii[5]  ]])\n",
    "\n",
    "dm_qm = dm_qm+dm_qm.T-np.diag(d_ii)\n",
    "plt.imshow(dm_qm,cmap='Purples')\n",
    "plt.colorbar()"
   ]
  },
  {
   "cell_type": "code",
   "execution_count": 13,
   "id": "97f77fea",
   "metadata": {},
   "outputs": [
    {
     "name": "stdout",
     "output_type": "stream",
     "text": [
      "deriv from id 0.052408701910871214\n"
     ]
    }
   ],
   "source": [
    "print('deriv from id',np.linalg.norm(dm_qm @ dm_qm - dm_qm))"
   ]
  },
  {
   "cell_type": "code",
   "execution_count": 14,
   "id": "80ed6463",
   "metadata": {},
   "outputs": [
    {
     "name": "stdout",
     "output_type": "stream",
     "text": [
      "classical: -3.160743363561985\n",
      "quantum: -3.1551428370883636\n",
      "pure quantum: -3.1606492359310954\n"
     ]
    }
   ],
   "source": [
    "adm_cl = reduce(np.dot,(caolo(mf.get_ovlp()),dm_cl,caolo(mf.get_ovlp()).conj().T))\n",
    "adm_qm = reduce(np.dot,(caolo(mf.get_ovlp()),dm_qm,caolo(mf.get_ovlp()).conj().T))*2\n",
    "\n",
    "mf_qm = scf.HF(mol)\n",
    "mf_qm.max_cycle = 0\n",
    "mf_qm.kernel(adm_qm)\n",
    "\n",
    "\n",
    "print('classical:',mf.energy_tot(dm=adm_cl))\n",
    "print('quantum:',mf.energy_tot(dm=adm_qm))\n",
    "print('pure quantum:',mf_qm.energy_tot())"
   ]
  },
  {
   "cell_type": "code",
   "execution_count": 15,
   "id": "a13030eb",
   "metadata": {},
   "outputs": [
    {
     "data": {
      "text/plain": [
       "\"\\nnp.savetxt('H6_dm_cl-%.2f'%lengths[cur_length],dm_cl/2)\\nnp.savetxt('H6_dm_qm-%.2f'%lengths[cur_length],dm_qm)\\n\\nnp.savetxt('H6_e-%.2f'%lengths[cur_length],(mf.energy_tot(dm=adm_cl),mf.energy_tot(dm=adm_qm),mf_qm.energy_tot()))\\n\""
      ]
     },
     "execution_count": 15,
     "metadata": {},
     "output_type": "execute_result"
    }
   ],
   "source": [
    "'''\n",
    "np.savetxt('H6_dm_cl-%.2f'%lengths[cur_length],dm_cl/2)\n",
    "np.savetxt('H6_dm_qm-%.2f'%lengths[cur_length],dm_qm)\n",
    "\n",
    "np.savetxt('H6_e-%.2f'%lengths[cur_length],(mf.energy_tot(dm=adm_cl),mf.energy_tot(dm=adm_qm),mf_qm.energy_tot()))\n",
    "'''"
   ]
  }
 ],
 "metadata": {
  "kernelspec": {
   "display_name": "pgt2022",
   "language": "python",
   "name": "pgt2022"
  },
  "language_info": {
   "codemirror_mode": {
    "name": "ipython",
    "version": 3
   },
   "file_extension": ".py",
   "mimetype": "text/x-python",
   "name": "python",
   "nbconvert_exporter": "python",
   "pygments_lexer": "ipython3",
   "version": "3.8.12"
  }
 },
 "nbformat": 4,
 "nbformat_minor": 5
}
